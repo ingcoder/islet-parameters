{
 "cells": [
  {
   "cell_type": "markdown",
   "metadata": {},
   "source": [
    "## Import and process human islet images from prodo labs"
   ]
  },
  {
   "cell_type": "markdown",
   "metadata": {},
   "source": [
    "Import packages"
   ]
  },
  {
   "cell_type": "code",
   "execution_count": 2,
   "metadata": {},
   "outputs": [],
   "source": [
    "#File processing packages\n",
    "from os import listdir\n",
    "import os\n",
    "import pathlib\n",
    "\n",
    "#Data processing packages\n",
    "import matplotlib.pyplot as plt\n",
    "import seaborn as sns\n",
    "import numpy as np\n",
    "import cv2\n",
    "import pandas as pd\n",
    "import re\n",
    "\n",
    "#Math packages\n",
    "import math\n",
    "\n",
    "#Image processing packages\n",
    "from skimage.filters import threshold_otsu\n",
    "from scipy import ndimage"
   ]
  },
  {
   "cell_type": "code",
   "execution_count": 3,
   "metadata": {},
   "outputs": [
    {
     "name": "stdout",
     "output_type": "stream",
     "text": [
      "Current directory: C:\\Users\\ingrid\\Dropbox (StemoniX)\\StemoniX Team Folder\\PANCREAS\\2_Data_Science\\python-virtual-environments\\myenv\\islet-parameters\\script\n"
     ]
    }
   ],
   "source": [
    "print('Current directory:', os.getcwd())"
   ]
  },
  {
   "cell_type": "markdown",
   "metadata": {},
   "source": [
    "Import and sort files on the fly"
   ]
  },
  {
   "cell_type": "code",
   "execution_count": 160,
   "metadata": {
    "scrolled": true
   },
   "outputs": [],
   "source": [
    "#Remove all 4x folder function \n",
    "def remove_dir(rootdir, folder):\n",
    "    success_message = None\n",
    "    \n",
    "    for dirpath, dirnames, filenames in os.walk(rootdir, topdown=False):\n",
    "        try:\n",
    "            if folder[0] or folder[1] in dirpath:\n",
    "                os.removedirs(dirpath)\n",
    "        except OSError as e:\n",
    "            print(e)\n",
    "        else:\n",
    "            success_message = 'All {} folder were deleted'.format(folder)\n",
    "        finally:\n",
    "            pass\n",
    "        \n",
    "    return success_message"
   ]
  },
  {
   "cell_type": "code",
   "execution_count": 219,
   "metadata": {},
   "outputs": [],
   "source": [
    "#Add new 4x folder function\n",
    "def add_dir(rootdir, folder):\n",
    "    success_message = None\n",
    "    \n",
    "    for dirpath, dirnames, filenames in os.walk(rootdir):\n",
    "        try:\n",
    "            if folder[0] or folder[1] not in dirpath:\n",
    "                os.makedirs(os.path.join(dirpath, folder[0]))\n",
    "                os.makedirs(os.path.join(dirpath, folder[1]))\n",
    "            else:\n",
    "                raise Exception \n",
    "        except OSError as e:\n",
    "            print(e)\n",
    "        except Exception as e:\n",
    "            print('Folder could not be created because we are in subfolder or folder already exist')\n",
    "        else:\n",
    "             success_message = 'All {} folder were created'.format(folder[0])\n",
    "        finally:\n",
    "            pass\n",
    "        \n",
    "    return success_message"
   ]
  },
  {
   "cell_type": "code",
   "execution_count": 221,
   "metadata": {},
   "outputs": [
    {
     "data": {
      "text/plain": [
       "'All 4x folder were created'"
      ]
     },
     "execution_count": 221,
     "metadata": {},
     "output_type": "execute_result"
    }
   ],
   "source": [
    "rootdir='../input images/human islets/'\n",
    "folder = ['4x','10x']\n",
    "\n",
    "#Runding add_dir function twice will create subfolders in ex, 10x folder. That's a bug and needs to be fixed\n",
    "#add_dir(rootdir, folder)\n",
    "#remove_dir(rootdir, folder)"
   ]
  },
  {
   "cell_type": "code",
   "execution_count": null,
   "metadata": {},
   "outputs": [],
   "source": []
  },
  {
   "cell_type": "code",
   "execution_count": null,
   "metadata": {},
   "outputs": [],
   "source": []
  }
 ],
 "metadata": {
  "kernelspec": {
   "display_name": "Python 3",
   "language": "python",
   "name": "python3"
  },
  "language_info": {
   "codemirror_mode": {
    "name": "ipython",
    "version": 3
   },
   "file_extension": ".py",
   "mimetype": "text/x-python",
   "name": "python",
   "nbconvert_exporter": "python",
   "pygments_lexer": "ipython3",
   "version": "3.7.3"
  }
 },
 "nbformat": 4,
 "nbformat_minor": 4
}
