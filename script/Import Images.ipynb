{
 "cells": [
  {
   "cell_type": "markdown",
   "metadata": {},
   "source": [
    "## Import and process human islet images from prodo labs"
   ]
  },
  {
   "cell_type": "markdown",
   "metadata": {},
   "source": [
    "Import packages"
   ]
  },
  {
   "cell_type": "code",
   "execution_count": 232,
   "metadata": {},
   "outputs": [],
   "source": [
    "#File processing packages\n",
    "from os import listdir\n",
    "import os\n",
    "import pathlib\n",
    "import shutil\n",
    "\n",
    "#Data processing packages\n",
    "import matplotlib.pyplot as plt\n",
    "import seaborn as sns\n",
    "import numpy as np\n",
    "import cv2\n",
    "import pandas as pd\n",
    "import re\n",
    "\n",
    "#Math packages\n",
    "import math\n",
    "\n",
    "#Image processing packages\n",
    "from skimage.filters import threshold_otsu\n",
    "from scipy import ndimage"
   ]
  },
  {
   "cell_type": "code",
   "execution_count": 3,
   "metadata": {},
   "outputs": [
    {
     "name": "stdout",
     "output_type": "stream",
     "text": [
      "Current directory: C:\\Users\\ingrid\\Dropbox (StemoniX)\\StemoniX Team Folder\\PANCREAS\\2_Data_Science\\python-virtual-environments\\myenv\\islet-parameters\\script\n"
     ]
    }
   ],
   "source": [
    "print('Current directory:', os.getcwd())"
   ]
  },
  {
   "cell_type": "markdown",
   "metadata": {},
   "source": [
    "Import and sort files on the fly"
   ]
  },
  {
   "cell_type": "code",
   "execution_count": 160,
   "metadata": {
    "scrolled": true
   },
   "outputs": [],
   "source": [
    "#Remove all 4x folder function \n",
    "def remove_dir(rootdir, folder):\n",
    "    success_message = None\n",
    "    \n",
    "    for dirpath, dirnames, filenames in os.walk(rootdir, topdown=False):\n",
    "        try:\n",
    "            if folder[0] or folder[1] in dirpath:\n",
    "                os.removedirs(dirpath)\n",
    "        except OSError as e:\n",
    "            print(e)\n",
    "        else:\n",
    "            success_message = 'All {} folder were deleted'.format(folder)\n",
    "        finally:\n",
    "            pass\n",
    "        \n",
    "    return success_message"
   ]
  },
  {
   "cell_type": "code",
   "execution_count": 219,
   "metadata": {},
   "outputs": [],
   "source": [
    "#Add new 4x folder function\n",
    "def add_dir(rootdir, folder):\n",
    "    success_message = None\n",
    "    \n",
    "    for dirpath, dirnames, filenames in os.walk(rootdir):\n",
    "        try:\n",
    "            if folder[0] or folder[1] not in dirpath:\n",
    "                os.makedirs(os.path.join(dirpath, folder[0]))\n",
    "                os.makedirs(os.path.join(dirpath, folder[1]))\n",
    "            else:\n",
    "                raise Exception \n",
    "        except OSError as e:\n",
    "            print(e)\n",
    "        except Exception as e:\n",
    "            print('Folder could not be created because we are in subfolder or folder already exist')\n",
    "        else:\n",
    "             success_message = 'All {} folder were created'.format(folder[0])\n",
    "        finally:\n",
    "            pass\n",
    "        \n",
    "    return success_message"
   ]
  },
  {
   "cell_type": "code",
   "execution_count": 221,
   "metadata": {},
   "outputs": [
    {
     "data": {
      "text/plain": [
       "'All 4x folder were created'"
      ]
     },
     "execution_count": 221,
     "metadata": {},
     "output_type": "execute_result"
    }
   ],
   "source": [
    "rootdir='../input images/human islets/'\n",
    "folder = ['4x','10x']\n",
    "\n",
    "#Running add_dir function twice will create subfolders in ex, 10x folder. That's a bug and needs to be fixed\n",
    "#add_dir(rootdir, folder)\n",
    "#remove_dir(rootdir, folder)"
   ]
  },
  {
   "cell_type": "code",
   "execution_count": 230,
   "metadata": {},
   "outputs": [],
   "source": [
    "#Move all image files into subfolder\n",
    "for dirpath, dirnames, filenames in os.walk(rootdir):\n",
    "    for name in filenames:\n",
    "        os.rename(os.path.join(dirpath, name), os.path.join(dirpath, name.lower()))"
   ]
  },
  {
   "cell_type": "code",
   "execution_count": 267,
   "metadata": {},
   "outputs": [],
   "source": [
    "def move_files(rootdir, folder):\n",
    "    message = None\n",
    "    \n",
    "    for dirpath, dirnames, filenames in os.walk(rootdir):\n",
    "        #ignore subdirectories \n",
    "        try:\n",
    "            if folder[0] not in dirpath:\n",
    "                for name in filenames:\n",
    "                    if folder[0] in name:\n",
    "                        new_path = folder[0]+name\n",
    "                        shutil.move(os.path.join(dirpath, name), os.path.join(dirpath, new_path))\n",
    "\n",
    "            if folder[1] not in dirpath: \n",
    "                for name in filenames:\n",
    "                    if folder[1] in name:\n",
    "                        new_path = folder[1]+name\n",
    "                        shutil.move(os.path.join(dirpath, name), os.path.join(dirpath, new_path))\n",
    "            else:\n",
    "                raise Exception\n",
    "                \n",
    "        except OSError as e:\n",
    "            print(e)\n",
    "            \n",
    "        except Exception as e:\n",
    "            #print(dirpath)\n",
    "            print('Ignore images in subfolder' + dirpath)\n",
    "        \n",
    "        else: \n",
    "            message = 'All files moved'\n",
    "            \n",
    "    return message\n",
    "    "
   ]
  },
  {
   "cell_type": "code",
   "execution_count": 268,
   "metadata": {},
   "outputs": [
    {
     "name": "stdout",
     "output_type": "stream",
     "text": [
      "Ignore images in subfolder../input images/human islets/10x\n",
      "Ignore images in subfolder../input images/human islets/HP-18003-01\\10x\n",
      "Ignore images in subfolder../input images/human islets/HP-18011-01\\10x\n",
      "Ignore images in subfolder../input images/human islets/HP-18017-01\\10x\n",
      "Ignore images in subfolder../input images/human islets/HP-18025-01\\10x\n",
      "Ignore images in subfolder../input images/human islets/HP-18026-01\\10x\n",
      "Ignore images in subfolder../input images/human islets/HP-18032-01\\10x\n",
      "Ignore images in subfolder../input images/human islets/HP-18038-01T2D\\10x\n",
      "Ignore images in subfolder../input images/human islets/hp-18047-01\\10x\n",
      "Ignore images in subfolder../input images/human islets/HP-18054-01\\10x\n",
      "Ignore images in subfolder../input images/human islets/HP-18066-01\\10x\n",
      "Ignore images in subfolder../input images/human islets/HP-18068-01T2D\\10x\n",
      "Ignore images in subfolder../input images/human islets/HP-18076-01\\10x\n",
      "Ignore images in subfolder../input images/human islets/HP-18087-01\\10x\n",
      "Ignore images in subfolder../input images/human islets/HP-18094-01\\10x\n",
      "Ignore images in subfolder../input images/human islets/HP-18095-01\\10x\n",
      "Ignore images in subfolder../input images/human islets/HP-18101-01\\10x\n",
      "Ignore images in subfolder../input images/human islets/HP-18103-01T2D\\10x\n",
      "Ignore images in subfolder../input images/human islets/HP-18110-01\\10x\n",
      "Ignore images in subfolder../input images/human islets/HP-18123-01\\10x\n",
      "Ignore images in subfolder../input images/human islets/HP-18125-01\\10x\n",
      "Ignore images in subfolder../input images/human islets/HP-18127-01\\10x\n",
      "Ignore images in subfolder../input images/human islets/HP-18132-01\\10x\n",
      "Ignore images in subfolder../input images/human islets/HP-18138-01\\10x\n",
      "Ignore images in subfolder../input images/human islets/HP-18144-01\\10x\n",
      "Ignore images in subfolder../input images/human islets/HP-18151-01\\10x\n",
      "Ignore images in subfolder../input images/human islets/HP-18157-01\\10x\n",
      "Ignore images in subfolder../input images/human islets/HP-18164-01\\10x\n",
      "Ignore images in subfolder../input images/human islets/HP-18165-01T2D\\10x\n",
      "Ignore images in subfolder../input images/human islets/HP-18173-01\\10x\n",
      "Ignore images in subfolder../input images/human islets/HP-18179-01T2D\\10x\n",
      "Ignore images in subfolder../input images/human islets/HP-18187-88-01\\10x\n",
      "Ignore images in subfolder../input images/human islets/HP-18196-01\\10x\n",
      "Ignore images in subfolder../input images/human islets/HP-18200-01\\10x\n",
      "Ignore images in subfolder../input images/human islets/HP-18221-01\\10x\n",
      "Ignore images in subfolder../input images/human islets/HP-18232-01\\10x\n",
      "Ignore images in subfolder../input images/human islets/HP-18239-01\\10x\n",
      "Ignore images in subfolder../input images/human islets/HP-18243-01T2D\\10x\n",
      "Ignore images in subfolder../input images/human islets/HP-18249-01\\10x\n",
      "Ignore images in subfolder../input images/human islets/HP-18266-01\\10x\n",
      "Ignore images in subfolder../input images/human islets/HP-18275-01T2D\\10x\n",
      "Ignore images in subfolder../input images/human islets/HP-18277-01\\10x\n",
      "Ignore images in subfolder../input images/human islets/HP-18277-01\\10x\\10x\n",
      "Ignore images in subfolder../input images/human islets/HP-18299-01\\10x\n",
      "Ignore images in subfolder../input images/human islets/HP-18304(6)-01\\10x\n",
      "Ignore images in subfolder../input images/human islets/HP-18304(6)-01\\10x\\10x\n",
      "Ignore images in subfolder../input images/human islets/HP-18310-01\\10x\n",
      "Ignore images in subfolder../input images/human islets/HP-18310-01\\10x\\10x\n",
      "Ignore images in subfolder../input images/human islets/HP-18310-01\\10x\\4x\n",
      "Ignore images in subfolder../input images/human islets/HP-18320-01T2D\\10x\n",
      "Ignore images in subfolder../input images/human islets/HP-18330-01\\10x\n",
      "Ignore images in subfolder../input images/human islets/HP-18334-01\\10x\n",
      "Ignore images in subfolder../input images/human islets/HP-18341-01\\10x\n",
      "Ignore images in subfolder../input images/human islets/HP-19003-01\\10x\n",
      "Ignore images in subfolder../input images/human islets/HP-19010-01\\10x\n",
      "Ignore images in subfolder../input images/human islets/HP-19017-01\\10x\n",
      "Ignore images in subfolder../input images/human islets/HP-19026-01\\10x\n",
      "Ignore images in subfolder../input images/human islets/HP-19030-01\\10x\n",
      "Ignore images in subfolder../input images/human islets/HP-19038-01\\10x\n",
      "Ignore images in subfolder../input images/human islets/HP-19047-01\\10x\n",
      "Ignore images in subfolder../input images/human islets/HP-19051-01T2D\\10x\n",
      "Ignore images in subfolder../input images/human islets/HP-19053-01\\10x\n",
      "Ignore images in subfolder../input images/human islets/HP-19060-01\\10x\n",
      "Ignore images in subfolder../input images/human islets/HP-19068-01\\10x\n",
      "Ignore images in subfolder../input images/human islets/HP-19073-01\\10x\n",
      "Ignore images in subfolder../input images/human islets/HP-19078-01T2D\\10x\n",
      "Ignore images in subfolder../input images/human islets/HP-19089-01\\10x\n",
      "Ignore images in subfolder../input images/human islets/HP-19096-01\\10x\n",
      "Ignore images in subfolder../input images/human islets/HP-19102-01\\10x\n",
      "Ignore images in subfolder../input images/human islets/HP-19102-01\\10x\\10x\n",
      "Ignore images in subfolder../input images/human islets/HP-19102-01\\10x\\4x\n",
      "Ignore images in subfolder../input images/human islets/HP-19108-01\\10x\n",
      "Ignore images in subfolder../input images/human islets/HP-19108-01\\10x\\4x\n",
      "Ignore images in subfolder../input images/human islets/HP-19113-01\\10x\n",
      "Ignore images in subfolder../input images/human islets/HP-19122-01\\10x\n",
      "Ignore images in subfolder../input images/human islets/HP-19131-01T2D\\10x\n",
      "Ignore images in subfolder../input images/human islets/HP-19131-01T2D\\10x\\4x\n",
      "Ignore images in subfolder../input images/human islets/HP-19143-01\\10x\n",
      "Ignore images in subfolder../input images/human islets/HP-19150-01\\10x\n",
      "Ignore images in subfolder../input images/human islets/HP-19150-01\\10x\\10x\n",
      "Ignore images in subfolder../input images/human islets/HP-19160-01\\10x\n",
      "Ignore images in subfolder../input images/human islets/HP-19160-01\\10x\\10x\n",
      "Ignore images in subfolder../input images/human islets/HP-19160-01\\10x\\4x\n",
      "Ignore images in subfolder../input images/human islets/HP-19163-01\\10x\n",
      "Ignore images in subfolder../input images/human islets/HP-19163-01\\10x\\10x\n",
      "Ignore images in subfolder../input images/human islets/HP-19163-01\\10x\\4x\n",
      "Ignore images in subfolder../input images/human islets/HP-19170-01\\10x\n",
      "Ignore images in subfolder../input images/human islets/HP-19171-01T2D\\10x\n",
      "Ignore images in subfolder../input images/human islets/HP-19177-01\\10x\n",
      "Ignore images in subfolder../input images/human islets/HP-19189-01\\10x\n",
      "Ignore images in subfolder../input images/human islets/HP-19189-01\\10x\\10x\n",
      "Ignore images in subfolder../input images/human islets/HP-19192-01\\10x\n",
      "Ignore images in subfolder../input images/human islets/HP-19199-01\\10x\n",
      "Ignore images in subfolder../input images/human islets/HP-19205-01\\10x\n",
      "Ignore images in subfolder../input images/human islets/HP-19214-01\\10x\n",
      "Ignore images in subfolder../input images/human islets/HP-19219-01\\10x\n",
      "Ignore images in subfolder../input images/human islets/HP-19235-01T2D\\10x\n",
      "Ignore images in subfolder../input images/human islets/HP-19242-01\\10x\n",
      "Ignore images in subfolder../input images/human islets/HP-19248-01\\10x\n",
      "Ignore images in subfolder../input images/human islets/HP-19256-01\\10x\n",
      "Ignore images in subfolder../input images/human islets/HP-19265-01\\10x\n",
      "Ignore images in subfolder../input images/human islets/HP-19271-01\\10x\n",
      "Ignore images in subfolder../input images/human islets/HP-19276-01\\10x\n",
      "Ignore images in subfolder../input images/human islets/HP-19283-01\\10x\n",
      "Ignore images in subfolder../input images/human islets/HP-19289-01\\10x\n",
      "Ignore images in subfolder../input images/human islets/HP-19297-01\\10x\n",
      "Ignore images in subfolder../input images/human islets/HP-19305-01\\10x\n",
      "Ignore images in subfolder../input images/human islets/HP-19311-01\\10x\n",
      "Ignore images in subfolder../input images/human islets/HP-19317-01T2D\\10x\n",
      "Ignore images in subfolder../input images/human islets/HP-19318-01\\10x\n",
      "Ignore images in subfolder../input images/human islets/HP-19318-01\\10x\\10x\n",
      "Ignore images in subfolder../input images/human islets/HP-19318-01\\10x\\4x\n",
      "Ignore images in subfolder../input images/human islets/HP-19324-01\\10x\n",
      "Ignore images in subfolder../input images/human islets/HP-19333-01\\10x\n",
      "Ignore images in subfolder../input images/human islets/HP-19342-01\\10x\n",
      "Ignore images in subfolder../input images/human islets/HP19226-01\\10x\n"
     ]
    },
    {
     "data": {
      "text/plain": [
       "'All files moved'"
      ]
     },
     "execution_count": 268,
     "metadata": {},
     "output_type": "execute_result"
    }
   ],
   "source": [
    "move_files(rootdir, folder)"
   ]
  },
  {
   "cell_type": "code",
   "execution_count": null,
   "metadata": {},
   "outputs": [],
   "source": []
  }
 ],
 "metadata": {
  "kernelspec": {
   "display_name": "Python 3",
   "language": "python",
   "name": "python3"
  },
  "language_info": {
   "codemirror_mode": {
    "name": "ipython",
    "version": 3
   },
   "file_extension": ".py",
   "mimetype": "text/x-python",
   "name": "python",
   "nbconvert_exporter": "python",
   "pygments_lexer": "ipython3",
   "version": "3.7.3"
  }
 },
 "nbformat": 4,
 "nbformat_minor": 4
}
